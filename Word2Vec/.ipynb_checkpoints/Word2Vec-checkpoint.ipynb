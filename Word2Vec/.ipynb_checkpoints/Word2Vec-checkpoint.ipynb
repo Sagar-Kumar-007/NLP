{
 "cells": [
  {
   "cell_type": "markdown",
   "metadata": {},
   "source": [
    "<img src='a.jpg'>"
   ]
  },
  {
   "cell_type": "markdown",
   "metadata": {},
   "source": [
    "Semantic information means the relationship between two or more words in a sentence. In BOW or TF-IDF, while drawing the vectors (table) we do not follow the order of the words in the features column and hence the relationship between the words for a given sentence is not shown."
   ]
  },
  {
   "cell_type": "markdown",
   "metadata": {},
   "source": [
    "<img src='b.jpg'>"
   ]
  },
  {
   "cell_type": "markdown",
   "metadata": {},
   "source": [
    "<img src='c.jpg' width=500><br>\n",
    "Since, the words man and women have some kind of semantic relationship in the sentence, we can see that the value of their respective vectors are close to each other. Whereas the word play has no semantic relationship between any of the words man and women and hence it is far away from those vectors. Note that we have used only two dimensions in this case, but we use about 32 or more vectors to specify a word and hence the semantic information and relation between different words is also preserved."
   ]
  },
  {
   "cell_type": "markdown",
   "metadata": {},
   "source": [
    "<img src='d.jpg' width=600><br>\n",
    "In this diagram you can see that the vectors similar to each other are close to each other and the ones that have no semantic relationship are far away from each other."
   ]
  },
  {
   "cell_type": "markdown",
   "metadata": {},
   "source": [
    "Considering the above image,mathematically we can say that:<br>\n",
    "King-Man=Queen-Woman<br>\n",
    "==> ***King-Man+Woman=Queen***<br>\n",
    "Logically, We can derive that a King is a man with power. To this if you remove man and place a woman, she becomes a queen. Hence, you can conclude that Word2Vec proves the logic in terms of maths."
   ]
  },
  {
   "cell_type": "markdown",
   "metadata": {},
   "source": [
    "<img src='e.jpg' width=500>"
   ]
  },
  {
   "cell_type": "markdown",
   "metadata": {},
   "source": [
    "***To Implement Word2Vec, we use gensim library.***<br>\n",
    "Gensim is an open-source library for unsupervised topic modeling and natural language processing, using modern statistical machine learning. It is famous for its Word2Vec module.<br>\n",
    "General Word2Vec uses 32 vectors, but Word2Vec that of gensim uses 100 vectors."
   ]
  },
  {
   "cell_type": "code",
   "execution_count": 2,
   "metadata": {
    "ExecuteTime": {
     "end_time": "2020-10-24T05:05:05.464351Z",
     "start_time": "2020-10-24T05:05:05.453412Z"
    }
   },
   "outputs": [],
   "source": [
    "import nltk\n",
    "from nltk.corpus import stopwords\n",
    "from gensim.models import Word2Vec"
   ]
  },
  {
   "cell_type": "code",
   "execution_count": 6,
   "metadata": {
    "ExecuteTime": {
     "end_time": "2020-10-24T05:06:56.167970Z",
     "start_time": "2020-10-24T05:06:56.159485Z"
    }
   },
   "outputs": [],
   "source": [
    "import re"
   ]
  },
  {
   "cell_type": "code",
   "execution_count": 23,
   "metadata": {
    "ExecuteTime": {
     "end_time": "2020-10-24T05:32:42.120367Z",
     "start_time": "2020-10-24T05:32:42.107350Z"
    }
   },
   "outputs": [],
   "source": [
    "paragraph = \"\"\"I have three visions for India. In 3000 years of our history, people from all over \n",
    "               the world have come and invaded us, captured our lands, conquered our minds. \n",
    "               From Alexander onwards, the Greeks, the Turks, the Moguls, the Portuguese, the British,\n",
    "               the French, the Dutch, all of them came and looted us, took over what was ours. \n",
    "               Yet we have not done this to any other nation. We have not conquered anyone. \n",
    "               We have not grabbed their land, their culture, \n",
    "               their history and tried to enforce our way of life on them. \n",
    "               Why? Because we respect the freedom of others.That is why my \n",
    "               first vision is that of freedom. I believe that India got its first vision of \n",
    "               this in 1857, when we started the War of Independence. It is this freedom that\n",
    "               we must protect and nurture and build on. If we are not free, no one will respect us.\n",
    "               My second vision for India’s development. For fifty years we have been a developing nation.\n",
    "               It is time we see ourselves as a developed nation. We are among the top 5 nations of the world\n",
    "               in terms of GDP. We have a 10 percent growth rate in most areas. Our poverty levels are falling.\n",
    "               Our achievements are being globally recognised today. Yet we lack the self-confidence to\n",
    "               see ourselves as a developed nation, self-reliant and self-assured. Isn’t this incorrect?\n",
    "               I have a third vision. India must stand up to the world. Because I believe that unless India \n",
    "               stands up to the world, no one will respect us. Only strength respects strength. We must be \n",
    "               strong not only as a military power but also as an economic power. Both must go hand-in-hand. \n",
    "               My good fortune was to have worked with three great minds. Dr. Vikram Sarabhai of the Dept. of \n",
    "               space, Professor Satish Dhawan, who succeeded him and Dr. Brahm Prakash, father of nuclear material.\n",
    "               I was lucky to have worked with all three of them closely and consider this the great opportunity of my life. \n",
    "               I see four milestones in my career\"\"\""
   ]
  },
  {
   "cell_type": "code",
   "execution_count": 24,
   "metadata": {
    "ExecuteTime": {
     "end_time": "2020-10-24T05:32:42.866366Z",
     "start_time": "2020-10-24T05:32:42.849059Z"
    }
   },
   "outputs": [],
   "source": [
    "# Text preprocessing"
   ]
  },
  {
   "cell_type": "code",
   "execution_count": 25,
   "metadata": {
    "ExecuteTime": {
     "end_time": "2020-10-24T05:32:43.268899Z",
     "start_time": "2020-10-24T05:32:43.259378Z"
    }
   },
   "outputs": [],
   "source": [
    "sentence=nltk.sent_tokenize(paragraph)"
   ]
  },
  {
   "cell_type": "code",
   "execution_count": 26,
   "metadata": {
    "ExecuteTime": {
     "end_time": "2020-10-24T05:32:44.220296Z",
     "start_time": "2020-10-24T05:32:44.130087Z"
    }
   },
   "outputs": [],
   "source": [
    "for i in range(len(sentence)):\n",
    "    sentence[i]=re.sub('[^a-z A-Z]','',sentence[i])\n",
    "    sentence[i]=sentence[i].lower()\n",
    "    words=nltk.word_tokenize(sentence[i])\n",
    "    words=[word for word in words if word not in set(stopwords.words('english'))]\n",
    "    sentence[i]=' '.join(words)"
   ]
  },
  {
   "cell_type": "code",
   "execution_count": 27,
   "metadata": {
    "ExecuteTime": {
     "end_time": "2020-10-24T05:32:45.575029Z",
     "start_time": "2020-10-24T05:32:45.568539Z"
    }
   },
   "outputs": [
    {
     "data": {
      "text/plain": [
       "['three visions india',\n",
       " 'years history people world come invaded us captured lands conquered minds',\n",
       " 'alexander onwards greeks turks moguls portuguese british french dutch came looted us took',\n",
       " 'yet done nation',\n",
       " 'conquered anyone',\n",
       " 'grabbed land culture history tried enforce way life',\n",
       " '',\n",
       " 'respect freedom othersthat first vision freedom',\n",
       " 'believe india got first vision started war independence',\n",
       " 'freedom must protect nurture build',\n",
       " 'free one respect us',\n",
       " 'second vision indias development',\n",
       " 'fifty years developing nation',\n",
       " 'time see developed nation',\n",
       " 'among top nations world terms gdp',\n",
       " 'percent growth rate areas',\n",
       " 'poverty levels falling',\n",
       " 'achievements globally recognised today',\n",
       " 'yet lack selfconfidence see developed nation selfreliant selfassured',\n",
       " 'isnt incorrect',\n",
       " 'third vision',\n",
       " 'india must stand world',\n",
       " 'believe unless india stands world one respect us',\n",
       " 'strength respects strength',\n",
       " 'must strong military power also economic power',\n",
       " 'must go handinhand',\n",
       " 'good fortune worked three great minds',\n",
       " 'dr vikram sarabhai dept',\n",
       " 'space professor satish dhawan succeeded dr brahm prakash father nuclear material',\n",
       " 'lucky worked three closely consider great opportunity life',\n",
       " 'see four milestones career']"
      ]
     },
     "execution_count": 27,
     "metadata": {},
     "output_type": "execute_result"
    }
   ],
   "source": [
    "sentence"
   ]
  },
  {
   "cell_type": "code",
   "execution_count": 40,
   "metadata": {
    "ExecuteTime": {
     "end_time": "2020-10-24T05:40:41.450002Z",
     "start_time": "2020-10-24T05:40:41.441491Z"
    }
   },
   "outputs": [],
   "source": [
    "# Before using Word2Vec, you must tokenize the sentences to words:\n",
    "words_final=[]\n",
    "for i in range(len(sentence)):\n",
    "    words_final.append(nltk.word_tokenize(sentence[i]))"
   ]
  },
  {
   "cell_type": "code",
   "execution_count": 41,
   "metadata": {
    "ExecuteTime": {
     "end_time": "2020-10-24T05:40:42.056517Z",
     "start_time": "2020-10-24T05:40:42.044969Z"
    }
   },
   "outputs": [
    {
     "data": {
      "text/plain": [
       "[['three', 'visions', 'india'],\n",
       " ['years',\n",
       "  'history',\n",
       "  'people',\n",
       "  'world',\n",
       "  'come',\n",
       "  'invaded',\n",
       "  'us',\n",
       "  'captured',\n",
       "  'lands',\n",
       "  'conquered',\n",
       "  'minds'],\n",
       " ['alexander',\n",
       "  'onwards',\n",
       "  'greeks',\n",
       "  'turks',\n",
       "  'moguls',\n",
       "  'portuguese',\n",
       "  'british',\n",
       "  'french',\n",
       "  'dutch',\n",
       "  'came',\n",
       "  'looted',\n",
       "  'us',\n",
       "  'took'],\n",
       " ['yet', 'done', 'nation'],\n",
       " ['conquered', 'anyone'],\n",
       " ['grabbed', 'land', 'culture', 'history', 'tried', 'enforce', 'way', 'life'],\n",
       " [],\n",
       " ['respect', 'freedom', 'othersthat', 'first', 'vision', 'freedom'],\n",
       " ['believe',\n",
       "  'india',\n",
       "  'got',\n",
       "  'first',\n",
       "  'vision',\n",
       "  'started',\n",
       "  'war',\n",
       "  'independence'],\n",
       " ['freedom', 'must', 'protect', 'nurture', 'build'],\n",
       " ['free', 'one', 'respect', 'us'],\n",
       " ['second', 'vision', 'indias', 'development'],\n",
       " ['fifty', 'years', 'developing', 'nation'],\n",
       " ['time', 'see', 'developed', 'nation'],\n",
       " ['among', 'top', 'nations', 'world', 'terms', 'gdp'],\n",
       " ['percent', 'growth', 'rate', 'areas'],\n",
       " ['poverty', 'levels', 'falling'],\n",
       " ['achievements', 'globally', 'recognised', 'today'],\n",
       " ['yet',\n",
       "  'lack',\n",
       "  'selfconfidence',\n",
       "  'see',\n",
       "  'developed',\n",
       "  'nation',\n",
       "  'selfreliant',\n",
       "  'selfassured'],\n",
       " ['isnt', 'incorrect'],\n",
       " ['third', 'vision'],\n",
       " ['india', 'must', 'stand', 'world'],\n",
       " ['believe', 'unless', 'india', 'stands', 'world', 'one', 'respect', 'us'],\n",
       " ['strength', 'respects', 'strength'],\n",
       " ['must', 'strong', 'military', 'power', 'also', 'economic', 'power'],\n",
       " ['must', 'go', 'handinhand'],\n",
       " ['good', 'fortune', 'worked', 'three', 'great', 'minds'],\n",
       " ['dr', 'vikram', 'sarabhai', 'dept'],\n",
       " ['space',\n",
       "  'professor',\n",
       "  'satish',\n",
       "  'dhawan',\n",
       "  'succeeded',\n",
       "  'dr',\n",
       "  'brahm',\n",
       "  'prakash',\n",
       "  'father',\n",
       "  'nuclear',\n",
       "  'material'],\n",
       " ['lucky',\n",
       "  'worked',\n",
       "  'three',\n",
       "  'closely',\n",
       "  'consider',\n",
       "  'great',\n",
       "  'opportunity',\n",
       "  'life'],\n",
       " ['see', 'four', 'milestones', 'career']]"
      ]
     },
     "execution_count": 41,
     "metadata": {},
     "output_type": "execute_result"
    }
   ],
   "source": [
    "words_final"
   ]
  },
  {
   "cell_type": "code",
   "execution_count": 42,
   "metadata": {
    "ExecuteTime": {
     "end_time": "2020-10-24T05:41:08.133436Z",
     "start_time": "2020-10-24T05:41:08.084735Z"
    }
   },
   "outputs": [],
   "source": [
    "# Using Word2Vec;\n",
    "word_2_vec=Word2Vec(words_final,min_count=1)\n",
    "# min_count is the minimum count of a word after which the word can be in the vector/ table. \n",
    "# min_count is generally 2 but since we have a small paragraph we are using min_count as 1."
   ]
  },
  {
   "cell_type": "code",
   "execution_count": 43,
   "metadata": {
    "ExecuteTime": {
     "end_time": "2020-10-24T05:41:09.207139Z",
     "start_time": "2020-10-24T05:41:09.186001Z"
    },
    "scrolled": true
   },
   "outputs": [
    {
     "data": {
      "text/plain": [
       "{'three': <gensim.models.keyedvectors.Vocab at 0x25a6cff8b08>,\n",
       " 'visions': <gensim.models.keyedvectors.Vocab at 0x25a6cff8848>,\n",
       " 'india': <gensim.models.keyedvectors.Vocab at 0x25a6cff8048>,\n",
       " 'years': <gensim.models.keyedvectors.Vocab at 0x25a6cff82c8>,\n",
       " 'history': <gensim.models.keyedvectors.Vocab at 0x25a689c8688>,\n",
       " 'people': <gensim.models.keyedvectors.Vocab at 0x25a689c8808>,\n",
       " 'world': <gensim.models.keyedvectors.Vocab at 0x25a689c8d08>,\n",
       " 'come': <gensim.models.keyedvectors.Vocab at 0x25a689c8888>,\n",
       " 'invaded': <gensim.models.keyedvectors.Vocab at 0x25a689c8708>,\n",
       " 'us': <gensim.models.keyedvectors.Vocab at 0x25a689c86c8>,\n",
       " 'captured': <gensim.models.keyedvectors.Vocab at 0x25a689c8b08>,\n",
       " 'lands': <gensim.models.keyedvectors.Vocab at 0x25a689c8388>,\n",
       " 'conquered': <gensim.models.keyedvectors.Vocab at 0x25a689c8e08>,\n",
       " 'minds': <gensim.models.keyedvectors.Vocab at 0x25a689c8908>,\n",
       " 'alexander': <gensim.models.keyedvectors.Vocab at 0x25a689bf8c8>,\n",
       " 'onwards': <gensim.models.keyedvectors.Vocab at 0x25a689bf288>,\n",
       " 'greeks': <gensim.models.keyedvectors.Vocab at 0x25a689bf188>,\n",
       " 'turks': <gensim.models.keyedvectors.Vocab at 0x25a689bf0c8>,\n",
       " 'moguls': <gensim.models.keyedvectors.Vocab at 0x25a689bfec8>,\n",
       " 'portuguese': <gensim.models.keyedvectors.Vocab at 0x25a689bfd08>,\n",
       " 'british': <gensim.models.keyedvectors.Vocab at 0x25a689bf648>,\n",
       " 'french': <gensim.models.keyedvectors.Vocab at 0x25a689bf888>,\n",
       " 'dutch': <gensim.models.keyedvectors.Vocab at 0x25a689bf988>,\n",
       " 'came': <gensim.models.keyedvectors.Vocab at 0x25a689bf088>,\n",
       " 'looted': <gensim.models.keyedvectors.Vocab at 0x25a687f7088>,\n",
       " 'took': <gensim.models.keyedvectors.Vocab at 0x25a687f7b48>,\n",
       " 'yet': <gensim.models.keyedvectors.Vocab at 0x25a688c3f08>,\n",
       " 'done': <gensim.models.keyedvectors.Vocab at 0x25a688de6c8>,\n",
       " 'nation': <gensim.models.keyedvectors.Vocab at 0x25a687a08c8>,\n",
       " 'anyone': <gensim.models.keyedvectors.Vocab at 0x25a687a0488>,\n",
       " 'grabbed': <gensim.models.keyedvectors.Vocab at 0x25a687a0e48>,\n",
       " 'land': <gensim.models.keyedvectors.Vocab at 0x25a687a0a08>,\n",
       " 'culture': <gensim.models.keyedvectors.Vocab at 0x25a687a0cc8>,\n",
       " 'tried': <gensim.models.keyedvectors.Vocab at 0x25a68851d08>,\n",
       " 'enforce': <gensim.models.keyedvectors.Vocab at 0x25a68851048>,\n",
       " 'way': <gensim.models.keyedvectors.Vocab at 0x25a68851e48>,\n",
       " 'life': <gensim.models.keyedvectors.Vocab at 0x25a68872ec8>,\n",
       " 'respect': <gensim.models.keyedvectors.Vocab at 0x25a68872888>,\n",
       " 'freedom': <gensim.models.keyedvectors.Vocab at 0x25a68872948>,\n",
       " 'othersthat': <gensim.models.keyedvectors.Vocab at 0x25a68872248>,\n",
       " 'first': <gensim.models.keyedvectors.Vocab at 0x25a688ca6c8>,\n",
       " 'vision': <gensim.models.keyedvectors.Vocab at 0x25a6858e188>,\n",
       " 'believe': <gensim.models.keyedvectors.Vocab at 0x25a68867c88>,\n",
       " 'got': <gensim.models.keyedvectors.Vocab at 0x25a68867a48>,\n",
       " 'started': <gensim.models.keyedvectors.Vocab at 0x25a68867708>,\n",
       " 'war': <gensim.models.keyedvectors.Vocab at 0x25a68840f48>,\n",
       " 'independence': <gensim.models.keyedvectors.Vocab at 0x25a688bf848>,\n",
       " 'must': <gensim.models.keyedvectors.Vocab at 0x25a688bfc08>,\n",
       " 'protect': <gensim.models.keyedvectors.Vocab at 0x25a688bf348>,\n",
       " 'nurture': <gensim.models.keyedvectors.Vocab at 0x25a688bf048>,\n",
       " 'build': <gensim.models.keyedvectors.Vocab at 0x25a688bf808>,\n",
       " 'free': <gensim.models.keyedvectors.Vocab at 0x25a688bfb48>,\n",
       " 'one': <gensim.models.keyedvectors.Vocab at 0x25a6866c688>,\n",
       " 'second': <gensim.models.keyedvectors.Vocab at 0x25a6877cb88>,\n",
       " 'indias': <gensim.models.keyedvectors.Vocab at 0x25a6876e4c8>,\n",
       " 'development': <gensim.models.keyedvectors.Vocab at 0x25a687f6288>,\n",
       " 'fifty': <gensim.models.keyedvectors.Vocab at 0x25a687f6808>,\n",
       " 'developing': <gensim.models.keyedvectors.Vocab at 0x25a687f6f48>,\n",
       " 'time': <gensim.models.keyedvectors.Vocab at 0x25a687f65c8>,\n",
       " 'see': <gensim.models.keyedvectors.Vocab at 0x25a687f6708>,\n",
       " 'developed': <gensim.models.keyedvectors.Vocab at 0x25a687f6a88>,\n",
       " 'among': <gensim.models.keyedvectors.Vocab at 0x25a687f6408>,\n",
       " 'top': <gensim.models.keyedvectors.Vocab at 0x25a68a6e3c8>,\n",
       " 'nations': <gensim.models.keyedvectors.Vocab at 0x25a68a6e688>,\n",
       " 'terms': <gensim.models.keyedvectors.Vocab at 0x25a68a6e8c8>,\n",
       " 'gdp': <gensim.models.keyedvectors.Vocab at 0x25a68a6ef88>,\n",
       " 'percent': <gensim.models.keyedvectors.Vocab at 0x25a68a6e708>,\n",
       " 'growth': <gensim.models.keyedvectors.Vocab at 0x25a68a6e9c8>,\n",
       " 'rate': <gensim.models.keyedvectors.Vocab at 0x25a68a6ea88>,\n",
       " 'areas': <gensim.models.keyedvectors.Vocab at 0x25a688bb288>,\n",
       " 'poverty': <gensim.models.keyedvectors.Vocab at 0x25a688bb148>,\n",
       " 'levels': <gensim.models.keyedvectors.Vocab at 0x25a688bb088>,\n",
       " 'falling': <gensim.models.keyedvectors.Vocab at 0x25a688bbf08>,\n",
       " 'achievements': <gensim.models.keyedvectors.Vocab at 0x25a688bbd88>,\n",
       " 'globally': <gensim.models.keyedvectors.Vocab at 0x25a688bb7c8>,\n",
       " 'recognised': <gensim.models.keyedvectors.Vocab at 0x25a688bb3c8>,\n",
       " 'today': <gensim.models.keyedvectors.Vocab at 0x25a688bb488>,\n",
       " 'lack': <gensim.models.keyedvectors.Vocab at 0x25a688bb348>,\n",
       " 'selfconfidence': <gensim.models.keyedvectors.Vocab at 0x25a68a71548>,\n",
       " 'selfreliant': <gensim.models.keyedvectors.Vocab at 0x25a68a71888>,\n",
       " 'selfassured': <gensim.models.keyedvectors.Vocab at 0x25a68a71ac8>,\n",
       " 'isnt': <gensim.models.keyedvectors.Vocab at 0x25a68a71388>,\n",
       " 'incorrect': <gensim.models.keyedvectors.Vocab at 0x25a68a71908>,\n",
       " 'third': <gensim.models.keyedvectors.Vocab at 0x25a68a71f08>,\n",
       " 'stand': <gensim.models.keyedvectors.Vocab at 0x25a68a71c48>,\n",
       " 'unless': <gensim.models.keyedvectors.Vocab at 0x25a68a71208>,\n",
       " 'stands': <gensim.models.keyedvectors.Vocab at 0x25a68a71d88>,\n",
       " 'strength': <gensim.models.keyedvectors.Vocab at 0x25a68a71188>,\n",
       " 'respects': <gensim.models.keyedvectors.Vocab at 0x25a68a716c8>,\n",
       " 'strong': <gensim.models.keyedvectors.Vocab at 0x25a68a71288>,\n",
       " 'military': <gensim.models.keyedvectors.Vocab at 0x25a68a71dc8>,\n",
       " 'power': <gensim.models.keyedvectors.Vocab at 0x25a687a8e48>,\n",
       " 'also': <gensim.models.keyedvectors.Vocab at 0x25a687a8948>,\n",
       " 'economic': <gensim.models.keyedvectors.Vocab at 0x25a687a8b88>,\n",
       " 'go': <gensim.models.keyedvectors.Vocab at 0x25a687a8788>,\n",
       " 'handinhand': <gensim.models.keyedvectors.Vocab at 0x25a687a83c8>,\n",
       " 'good': <gensim.models.keyedvectors.Vocab at 0x25a685cbcc8>,\n",
       " 'fortune': <gensim.models.keyedvectors.Vocab at 0x25a685cb2c8>,\n",
       " 'worked': <gensim.models.keyedvectors.Vocab at 0x25a685cb788>,\n",
       " 'great': <gensim.models.keyedvectors.Vocab at 0x25a685cb388>,\n",
       " 'dr': <gensim.models.keyedvectors.Vocab at 0x25a685cb208>,\n",
       " 'vikram': <gensim.models.keyedvectors.Vocab at 0x25a689de848>,\n",
       " 'sarabhai': <gensim.models.keyedvectors.Vocab at 0x25a689de088>,\n",
       " 'dept': <gensim.models.keyedvectors.Vocab at 0x25a689de7c8>,\n",
       " 'space': <gensim.models.keyedvectors.Vocab at 0x25a689de188>,\n",
       " 'professor': <gensim.models.keyedvectors.Vocab at 0x25a689de8c8>,\n",
       " 'satish': <gensim.models.keyedvectors.Vocab at 0x25a689dea48>,\n",
       " 'dhawan': <gensim.models.keyedvectors.Vocab at 0x25a689de548>,\n",
       " 'succeeded': <gensim.models.keyedvectors.Vocab at 0x25a689deec8>,\n",
       " 'brahm': <gensim.models.keyedvectors.Vocab at 0x25a689de788>,\n",
       " 'prakash': <gensim.models.keyedvectors.Vocab at 0x25a689de948>,\n",
       " 'father': <gensim.models.keyedvectors.Vocab at 0x25a689def88>,\n",
       " 'nuclear': <gensim.models.keyedvectors.Vocab at 0x25a689de748>,\n",
       " 'material': <gensim.models.keyedvectors.Vocab at 0x25a689de408>,\n",
       " 'lucky': <gensim.models.keyedvectors.Vocab at 0x25a68a74348>,\n",
       " 'closely': <gensim.models.keyedvectors.Vocab at 0x25a68a74448>,\n",
       " 'consider': <gensim.models.keyedvectors.Vocab at 0x25a68a74488>,\n",
       " 'opportunity': <gensim.models.keyedvectors.Vocab at 0x25a68a74588>,\n",
       " 'four': <gensim.models.keyedvectors.Vocab at 0x25a68a74408>,\n",
       " 'milestones': <gensim.models.keyedvectors.Vocab at 0x25a68a74c08>,\n",
       " 'career': <gensim.models.keyedvectors.Vocab at 0x25a68a74808>}"
      ]
     },
     "execution_count": 43,
     "metadata": {},
     "output_type": "execute_result"
    }
   ],
   "source": [
    "# These are the words in our Word2Vec table.\n",
    "word_vocab=word_2_vec.wv.vocab\n",
    "word_vocab"
   ]
  },
  {
   "cell_type": "code",
   "execution_count": 44,
   "metadata": {
    "ExecuteTime": {
     "end_time": "2020-10-24T05:42:15.870492Z",
     "start_time": "2020-10-24T05:42:15.851514Z"
    }
   },
   "outputs": [
    {
     "data": {
      "text/plain": [
       "array([-9.5400773e-04,  2.0660060e-03, -4.1873688e-03,  4.1473336e-03,\n",
       "       -4.4484176e-03,  4.1170432e-03,  1.6819633e-03, -2.3568834e-03,\n",
       "        1.5985342e-03,  6.4527034e-04, -3.9604362e-03,  3.7677342e-03,\n",
       "       -2.6256677e-03, -3.2674284e-03, -4.4788201e-03, -1.3960716e-03,\n",
       "       -9.0912287e-04, -3.4047537e-03, -4.5113283e-04, -4.9151746e-03,\n",
       "       -3.0645216e-03,  4.2757546e-03,  3.5943694e-03, -3.3998888e-03,\n",
       "        4.4909362e-03,  7.5034838e-04,  2.5782755e-03, -1.5510055e-06,\n",
       "        4.2492873e-03, -3.2563384e-03, -3.5481488e-03,  2.8617291e-03,\n",
       "        4.2026644e-03, -1.6078808e-03, -1.6249486e-03,  5.0011985e-03,\n",
       "        8.2606653e-04, -3.2541554e-03,  5.9805828e-04,  3.5768899e-04,\n",
       "        2.6052052e-03,  2.2439095e-03,  3.9387480e-04, -2.5690102e-03,\n",
       "       -1.1278031e-03, -3.6213928e-04,  5.2713807e-04,  2.2759973e-03,\n",
       "       -3.6746457e-03,  4.3696500e-03, -2.3562070e-03,  3.2296653e-03,\n",
       "       -2.6916887e-03, -3.6574369e-03,  3.0802297e-03,  4.4575180e-03,\n",
       "       -4.7857389e-03, -4.0959152e-03, -1.2744184e-03, -4.4574370e-03,\n",
       "       -4.1908412e-03,  5.6927436e-04,  1.7684398e-04, -1.4158732e-03,\n",
       "       -4.9737832e-03,  2.0338004e-03, -7.7252369e-04,  2.0257812e-03,\n",
       "        3.0402129e-03, -4.9446346e-03,  9.9908840e-04, -3.0256063e-04,\n",
       "       -4.8759505e-03,  5.0516822e-04,  2.7118840e-03,  5.0494564e-04,\n",
       "        2.4114216e-03,  3.3153957e-03, -2.0266783e-03,  1.3509759e-04,\n",
       "       -3.9962605e-03,  3.9527151e-03, -9.0751320e-04,  1.8284154e-03,\n",
       "        1.7750119e-03, -4.2149998e-04,  1.5359239e-03, -4.5045861e-03,\n",
       "       -6.3742534e-04, -3.7562440e-03, -3.6228206e-03, -2.8356356e-03,\n",
       "       -2.5905352e-03,  2.5192602e-03,  3.8615081e-03, -8.5467321e-04,\n",
       "        2.7941798e-03,  2.1426729e-03, -2.6370061e-03, -4.1753384e-03],\n",
       "      dtype=float32)"
      ]
     },
     "execution_count": 44,
     "metadata": {},
     "output_type": "execute_result"
    }
   ],
   "source": [
    "# lets check the vector for a word;\n",
    "word_2_vec.wv['war']"
   ]
  },
  {
   "cell_type": "code",
   "execution_count": 45,
   "metadata": {
    "ExecuteTime": {
     "end_time": "2020-10-24T05:42:54.897133Z",
     "start_time": "2020-10-24T05:42:54.857240Z"
    }
   },
   "outputs": [
    {
     "data": {
      "text/plain": [
       "[('way', 0.33119556307792664),\n",
       " ('took', 0.24593347311019897),\n",
       " ('culture', 0.19638998806476593),\n",
       " ('milestones', 0.18079695105552673),\n",
       " ('great', 0.1243928000330925),\n",
       " ('prakash', 0.12394071370363235),\n",
       " ('invaded', 0.12069682776927948),\n",
       " ('satish', 0.1167491003870964),\n",
       " ('achievements', 0.10409626364707947),\n",
       " ('minds', 0.10338100045919418)]"
      ]
     },
     "execution_count": 45,
     "metadata": {},
     "output_type": "execute_result"
    }
   ],
   "source": [
    "# Lets check the words that are most related to a word according to the partial paragraph.\n",
    "word_2_vec.wv.most_similar('india')"
   ]
  },
  {
   "cell_type": "code",
   "execution_count": 46,
   "metadata": {
    "ExecuteTime": {
     "end_time": "2020-10-24T05:44:29.933441Z",
     "start_time": "2020-10-24T05:44:29.916485Z"
    }
   },
   "outputs": [],
   "source": [
    "# You can see that the word India is mostly related/ similar to the words way, took, culture, milestones, great etc."
   ]
  },
  {
   "cell_type": "code",
   "execution_count": 47,
   "metadata": {
    "ExecuteTime": {
     "end_time": "2020-10-24T05:44:39.545285Z",
     "start_time": "2020-10-24T05:44:39.536310Z"
    }
   },
   "outputs": [
    {
     "data": {
      "text/plain": [
       "[('dept', 0.334224134683609),\n",
       " ('freedom', 0.2385505735874176),\n",
       " ('land', 0.22838491201400757),\n",
       " ('indias', 0.19989310204982758),\n",
       " ('war', 0.19773989915847778),\n",
       " ('achievements', 0.17567183077335358),\n",
       " ('conquered', 0.16922083497047424),\n",
       " ('selfconfidence', 0.16613619029521942),\n",
       " ('succeeded', 0.16339658200740814),\n",
       " ('worked', 0.15339310467243195)]"
      ]
     },
     "execution_count": 47,
     "metadata": {},
     "output_type": "execute_result"
    }
   ],
   "source": [
    "word_2_vec.wv.most_similar('vision')"
   ]
  },
  {
   "cell_type": "code",
   "execution_count": null,
   "metadata": {},
   "outputs": [],
   "source": []
  }
 ],
 "metadata": {
  "kernelspec": {
   "display_name": "Python 3",
   "language": "python",
   "name": "python3"
  },
  "language_info": {
   "codemirror_mode": {
    "name": "ipython",
    "version": 3
   },
   "file_extension": ".py",
   "mimetype": "text/x-python",
   "name": "python",
   "nbconvert_exporter": "python",
   "pygments_lexer": "ipython3",
   "version": "3.7.7"
  }
 },
 "nbformat": 4,
 "nbformat_minor": 4
}
