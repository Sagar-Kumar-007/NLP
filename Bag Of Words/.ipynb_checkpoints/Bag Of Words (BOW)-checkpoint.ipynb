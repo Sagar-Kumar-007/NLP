{
 "cells": [
  {
   "cell_type": "markdown",
   "metadata": {},
   "source": [
    "***Steps involved in Text Preprocessing:***<br>\n",
    "1. Converting the sentences into lower case.\n",
    "2. Now applying stemming and lemmatization to the sentences.\n",
    "3. Converting the sentences into count vectors using the Bag Of Words concept."
   ]
  },
  {
   "cell_type": "markdown",
   "metadata": {},
   "source": [
    "***While text preprocessing, always convert the sentence into lower case or upper case.*** This is so because if the words are in two different cases, then we will be considering them as two different words. Example: Hey and hey will be considered as two different words and hence converting them into lower case or upper case would make them as single word hey/ HEY."
   ]
  },
  {
   "cell_type": "markdown",
   "metadata": {},
   "source": [
    "***NOTE:***<br>\n",
    "Words like IN (for India) and US (for USA) should not be converted to lower case because they will change the meaning to in and us. Hence, while converting the sentences into lower case, first make a separate list of those words and combine them at the last."
   ]
  },
  {
   "cell_type": "markdown",
   "metadata": {},
   "source": [
    "Now, you can apply stemming and lemmatization to the sentences and remove the stop words."
   ]
  },
  {
   "cell_type": "markdown",
   "metadata": {},
   "source": [
    "Bag Of Words can be of two types:<br>\n",
    "1. Binary BOW<br>\n",
    "2. BOW"
   ]
  },
  {
   "cell_type": "markdown",
   "metadata": {},
   "source": [
    "***Binary Bag Of Words:***<br>\n",
    "In Binary BOW, we first count the frequency of the words that are being repeated. Then, based on the words, we make a table and write 1 if the word is present in the sentence otherwise 0.<br><img src='binary_bow.jpg' width=500><br>\n",
    "***BOW:***<br>\n",
    "In BOW, we write the frequency of the word in the table rather than writing whether it is present or not.<br><img src='bow.jpg' width=500><br>"
   ]
  },
  {
   "cell_type": "markdown",
   "metadata": {},
   "source": [
    "You can see that the table is in the form of vectors. Take sentence 1, you can say that the vector form of sentence 1 is\n",
    "'1,1,0'. These vectors can be the features/ independent variables and we would be given the output variable for it. From this, we can train our ML model."
   ]
  },
  {
   "cell_type": "markdown",
   "metadata": {},
   "source": [
    "***Disadvantage of BOW:***<br>\n",
    "In the table, we cannot say that the word 'BOY' has more weightage or the word 'Good'. Hence, the major disadvantage while using BOW is that we cannot say whether a word in the sentence has more or less impact on the sentence."
   ]
  },
  {
   "cell_type": "markdown",
   "metadata": {},
   "source": [
    "***To overcome this issue, we use techniques like TF-IDF (Term Frequency - Inverse Document Frequency).***"
   ]
  },
  {
   "cell_type": "markdown",
   "metadata": {},
   "source": [
    "When you are doing sentiment analysis, you can go ahead with Bag Of Words to compute but if you are using a large dataset, Word2Vec is the best method"
   ]
  },
  {
   "cell_type": "markdown",
   "metadata": {},
   "source": [
    "# ***Bag Of Words:***"
   ]
  },
  {
   "cell_type": "code",
   "execution_count": 1,
   "metadata": {
    "ExecuteTime": {
     "end_time": "2020-10-23T06:19:32.908105Z",
     "start_time": "2020-10-23T06:19:32.888159Z"
    }
   },
   "outputs": [],
   "source": [
    "paragraph=\"Mathematical analysis formally developed in the 17th century during the Scientific Revolution,but many of its ideas can be traced back to earlier mathematicians. Early results in analysis were implicitly present in the early days of ancient Greek mathematics. For instance, an infinite geometric sum is implicit in Zeno's paradox of the dichotomy. Later, Greek mathematicians such as Eudoxus and Archimedes made more explicit, but informal, use of the concepts of limits and convergence when they used the method of exhaustion to compute the area and volume of regions and solids. The explicit use of infinitesimals appears in Archimedes' The Method of Mechanical Theorems, a work rediscovered in the 20th century. In Asia, the Chinese mathematician Liu Hui used the method of exhaustion in the 3rd century AD to find the area of a circle. Zu Chongzhi established a method that would later be called Cavalieri's principle to find the volume of a sphere in the 5th century. The Indian mathematician Bhāskara II gave examples of the derivative and used what is now known as Rolle's theorem in the 12th century.\""
   ]
  },
  {
   "cell_type": "code",
   "execution_count": 2,
   "metadata": {
    "ExecuteTime": {
     "end_time": "2020-10-23T06:19:40.923009Z",
     "start_time": "2020-10-23T06:19:39.476510Z"
    }
   },
   "outputs": [],
   "source": [
    "import nltk"
   ]
  },
  {
   "cell_type": "code",
   "execution_count": 3,
   "metadata": {
    "ExecuteTime": {
     "end_time": "2020-10-23T06:20:26.316081Z",
     "start_time": "2020-10-23T06:20:26.307105Z"
    }
   },
   "outputs": [],
   "source": [
    "# Step 1: Convert the paragraph into lower case"
   ]
  },
  {
   "cell_type": "code",
   "execution_count": 27,
   "metadata": {
    "ExecuteTime": {
     "end_time": "2020-10-23T06:34:05.028239Z",
     "start_time": "2020-10-23T06:34:05.023249Z"
    }
   },
   "outputs": [],
   "source": [
    "paragraph =paragraph.lower()"
   ]
  },
  {
   "cell_type": "code",
   "execution_count": 28,
   "metadata": {
    "ExecuteTime": {
     "end_time": "2020-10-23T06:34:05.511952Z",
     "start_time": "2020-10-23T06:34:05.497900Z"
    }
   },
   "outputs": [],
   "source": [
    "# Step 2 is to apply stemming or lemmatization"
   ]
  },
  {
   "cell_type": "code",
   "execution_count": 29,
   "metadata": {
    "ExecuteTime": {
     "end_time": "2020-10-23T06:34:06.070390Z",
     "start_time": "2020-10-23T06:34:06.057308Z"
    }
   },
   "outputs": [],
   "source": [
    "from nltk.corpus import stopwords\n",
    "from nltk.stem import WordNetLemmatizer"
   ]
  },
  {
   "cell_type": "code",
   "execution_count": 30,
   "metadata": {
    "ExecuteTime": {
     "end_time": "2020-10-23T06:34:06.565743Z",
     "start_time": "2020-10-23T06:34:06.552763Z"
    }
   },
   "outputs": [],
   "source": [
    "lemmatizer=WordNetLemmatizer()"
   ]
  },
  {
   "cell_type": "code",
   "execution_count": 31,
   "metadata": {
    "ExecuteTime": {
     "end_time": "2020-10-23T06:34:07.233354Z",
     "start_time": "2020-10-23T06:34:07.224803Z"
    }
   },
   "outputs": [],
   "source": [
    "sentences=nltk.sent_tokenize(paragraph)"
   ]
  },
  {
   "cell_type": "code",
   "execution_count": 32,
   "metadata": {
    "ExecuteTime": {
     "end_time": "2020-10-23T06:34:07.858351Z",
     "start_time": "2020-10-23T06:34:07.808375Z"
    }
   },
   "outputs": [],
   "source": [
    "for i in range(len(sentences)):\n",
    "    words=nltk.word_tokenize(sentences[i])\n",
    "    words=[lemmatizer.lemmatize(word) for word in words if word not in set(stopwords.words('english'))]\n",
    "    sentences[i]=' '.join(words)"
   ]
  },
  {
   "cell_type": "code",
   "execution_count": 33,
   "metadata": {
    "ExecuteTime": {
     "end_time": "2020-10-23T06:34:08.559335Z",
     "start_time": "2020-10-23T06:34:08.554348Z"
    }
   },
   "outputs": [
    {
     "data": {
      "text/plain": [
       "['mathematical analysis formally developed 17th century scientific revolution , many idea traced back earlier mathematician .',\n",
       " 'early result analysis implicitly present early day ancient greek mathematics .',\n",
       " \"instance , infinite geometric sum implicit zeno 's paradox dichotomy .\",\n",
       " 'later , greek mathematician eudoxus archimedes made explicit , informal , use concept limit convergence used method exhaustion compute area volume region solid .',\n",
       " \"explicit use infinitesimal appears archimedes ' method mechanical theorem , work rediscovered 20th century .\",\n",
       " 'asia , chinese mathematician liu hui used method exhaustion 3rd century ad find area circle .',\n",
       " \"zu chongzhi established method would later called cavalieri 's principle find volume sphere 5th century .\",\n",
       " \"indian mathematician bhāskara ii gave example derivative used known rolle 's theorem 12th century .\"]"
      ]
     },
     "execution_count": 33,
     "metadata": {},
     "output_type": "execute_result"
    }
   ],
   "source": [
    "sentences"
   ]
  },
  {
   "cell_type": "code",
   "execution_count": 34,
   "metadata": {
    "ExecuteTime": {
     "end_time": "2020-10-23T06:34:09.258598Z",
     "start_time": "2020-10-23T06:34:09.252176Z"
    }
   },
   "outputs": [],
   "source": [
    "# You can still observe that the punctuation marks are not removed. To remove them, we will use the re library. re stands for\n",
    "# Regular Expression."
   ]
  },
  {
   "cell_type": "code",
   "execution_count": 35,
   "metadata": {
    "ExecuteTime": {
     "end_time": "2020-10-23T06:34:09.725669Z",
     "start_time": "2020-10-23T06:34:09.716554Z"
    }
   },
   "outputs": [],
   "source": [
    "import re"
   ]
  },
  {
   "cell_type": "code",
   "execution_count": 36,
   "metadata": {
    "ExecuteTime": {
     "end_time": "2020-10-23T06:34:10.318631Z",
     "start_time": "2020-10-23T06:34:10.303528Z"
    }
   },
   "outputs": [],
   "source": [
    "for i in range(len(sentences)):\n",
    "    sentences[i] = re.sub('[^a-zA-Z0-9]',' ',sentences[i])\n",
    "    # re.sub() is used to replace the patterns (1st parameter) with the thing that is typed in the 2nd parameter. Note that\n",
    "    # '^' symbol is denoted as 'not'. Hence, it will replace everything except a-z and A-Z and 0-9 with ' ' (spaces) from \n",
    "    # the ith sentence."
   ]
  },
  {
   "cell_type": "code",
   "execution_count": 37,
   "metadata": {
    "ExecuteTime": {
     "end_time": "2020-10-23T06:34:11.014075Z",
     "start_time": "2020-10-23T06:34:10.998558Z"
    }
   },
   "outputs": [
    {
     "data": {
      "text/plain": [
       "['mathematical analysis formally developed 17th century scientific revolution   many idea traced back earlier mathematician  ',\n",
       " 'early result analysis implicitly present early day ancient greek mathematics  ',\n",
       " 'instance   infinite geometric sum implicit zeno  s paradox dichotomy  ',\n",
       " 'later   greek mathematician eudoxus archimedes made explicit   informal   use concept limit convergence used method exhaustion compute area volume region solid  ',\n",
       " 'explicit use infinitesimal appears archimedes   method mechanical theorem   work rediscovered 20th century  ',\n",
       " 'asia   chinese mathematician liu hui used method exhaustion 3rd century ad find area circle  ',\n",
       " 'zu chongzhi established method would later called cavalieri  s principle find volume sphere 5th century  ',\n",
       " 'indian mathematician bh skara ii gave example derivative used known rolle  s theorem 12th century  ']"
      ]
     },
     "execution_count": 37,
     "metadata": {},
     "output_type": "execute_result"
    }
   ],
   "source": [
    "sentences"
   ]
  },
  {
   "cell_type": "code",
   "execution_count": 38,
   "metadata": {
    "ExecuteTime": {
     "end_time": "2020-10-23T06:34:12.792549Z",
     "start_time": "2020-10-23T06:34:12.774450Z"
    }
   },
   "outputs": [],
   "source": [
    "# Step 3 is to convert the sentences into vectors using BOW"
   ]
  },
  {
   "cell_type": "code",
   "execution_count": 39,
   "metadata": {
    "ExecuteTime": {
     "end_time": "2020-10-23T06:39:42.902307Z",
     "start_time": "2020-10-23T06:39:42.896324Z"
    }
   },
   "outputs": [],
   "source": [
    "from sklearn.feature_extraction.text import CountVectorizer"
   ]
  },
  {
   "cell_type": "code",
   "execution_count": 40,
   "metadata": {
    "ExecuteTime": {
     "end_time": "2020-10-23T06:39:47.387453Z",
     "start_time": "2020-10-23T06:39:47.383465Z"
    }
   },
   "outputs": [],
   "source": [
    "cv=CountVectorizer()"
   ]
  },
  {
   "cell_type": "code",
   "execution_count": 45,
   "metadata": {
    "ExecuteTime": {
     "end_time": "2020-10-23T06:40:32.395733Z",
     "start_time": "2020-10-23T06:40:32.384738Z"
    }
   },
   "outputs": [],
   "source": [
    "X=cv.fit_transform(sentences).toarray()"
   ]
  },
  {
   "cell_type": "code",
   "execution_count": 47,
   "metadata": {
    "ExecuteTime": {
     "end_time": "2020-10-23T06:41:40.357602Z",
     "start_time": "2020-10-23T06:41:40.327681Z"
    }
   },
   "outputs": [
    {
     "data": {
      "text/html": [
       "<div>\n",
       "<style scoped>\n",
       "    .dataframe tbody tr th:only-of-type {\n",
       "        vertical-align: middle;\n",
       "    }\n",
       "\n",
       "    .dataframe tbody tr th {\n",
       "        vertical-align: top;\n",
       "    }\n",
       "\n",
       "    .dataframe thead th {\n",
       "        text-align: right;\n",
       "    }\n",
       "</style>\n",
       "<table border=\"1\" class=\"dataframe\">\n",
       "  <thead>\n",
       "    <tr style=\"text-align: right;\">\n",
       "      <th></th>\n",
       "      <th>0</th>\n",
       "      <th>1</th>\n",
       "      <th>2</th>\n",
       "      <th>3</th>\n",
       "      <th>4</th>\n",
       "      <th>5</th>\n",
       "      <th>6</th>\n",
       "      <th>7</th>\n",
       "      <th>8</th>\n",
       "      <th>9</th>\n",
       "      <th>...</th>\n",
       "      <th>72</th>\n",
       "      <th>73</th>\n",
       "      <th>74</th>\n",
       "      <th>75</th>\n",
       "      <th>76</th>\n",
       "      <th>77</th>\n",
       "      <th>78</th>\n",
       "      <th>79</th>\n",
       "      <th>80</th>\n",
       "      <th>81</th>\n",
       "    </tr>\n",
       "  </thead>\n",
       "  <tbody>\n",
       "    <tr>\n",
       "      <th>0</th>\n",
       "      <td>0</td>\n",
       "      <td>1</td>\n",
       "      <td>0</td>\n",
       "      <td>0</td>\n",
       "      <td>0</td>\n",
       "      <td>0</td>\n",
       "      <td>1</td>\n",
       "      <td>0</td>\n",
       "      <td>0</td>\n",
       "      <td>0</td>\n",
       "      <td>...</td>\n",
       "      <td>0</td>\n",
       "      <td>0</td>\n",
       "      <td>1</td>\n",
       "      <td>0</td>\n",
       "      <td>0</td>\n",
       "      <td>0</td>\n",
       "      <td>0</td>\n",
       "      <td>0</td>\n",
       "      <td>0</td>\n",
       "      <td>0</td>\n",
       "    </tr>\n",
       "    <tr>\n",
       "      <th>1</th>\n",
       "      <td>0</td>\n",
       "      <td>0</td>\n",
       "      <td>0</td>\n",
       "      <td>0</td>\n",
       "      <td>0</td>\n",
       "      <td>0</td>\n",
       "      <td>1</td>\n",
       "      <td>1</td>\n",
       "      <td>0</td>\n",
       "      <td>0</td>\n",
       "      <td>...</td>\n",
       "      <td>0</td>\n",
       "      <td>0</td>\n",
       "      <td>0</td>\n",
       "      <td>0</td>\n",
       "      <td>0</td>\n",
       "      <td>0</td>\n",
       "      <td>0</td>\n",
       "      <td>0</td>\n",
       "      <td>0</td>\n",
       "      <td>0</td>\n",
       "    </tr>\n",
       "    <tr>\n",
       "      <th>2</th>\n",
       "      <td>0</td>\n",
       "      <td>0</td>\n",
       "      <td>0</td>\n",
       "      <td>0</td>\n",
       "      <td>0</td>\n",
       "      <td>0</td>\n",
       "      <td>0</td>\n",
       "      <td>0</td>\n",
       "      <td>0</td>\n",
       "      <td>0</td>\n",
       "      <td>...</td>\n",
       "      <td>1</td>\n",
       "      <td>0</td>\n",
       "      <td>0</td>\n",
       "      <td>0</td>\n",
       "      <td>0</td>\n",
       "      <td>0</td>\n",
       "      <td>0</td>\n",
       "      <td>0</td>\n",
       "      <td>1</td>\n",
       "      <td>0</td>\n",
       "    </tr>\n",
       "    <tr>\n",
       "      <th>3</th>\n",
       "      <td>0</td>\n",
       "      <td>0</td>\n",
       "      <td>0</td>\n",
       "      <td>0</td>\n",
       "      <td>0</td>\n",
       "      <td>0</td>\n",
       "      <td>0</td>\n",
       "      <td>0</td>\n",
       "      <td>0</td>\n",
       "      <td>1</td>\n",
       "      <td>...</td>\n",
       "      <td>0</td>\n",
       "      <td>0</td>\n",
       "      <td>0</td>\n",
       "      <td>1</td>\n",
       "      <td>1</td>\n",
       "      <td>1</td>\n",
       "      <td>0</td>\n",
       "      <td>0</td>\n",
       "      <td>0</td>\n",
       "      <td>0</td>\n",
       "    </tr>\n",
       "    <tr>\n",
       "      <th>4</th>\n",
       "      <td>0</td>\n",
       "      <td>0</td>\n",
       "      <td>1</td>\n",
       "      <td>0</td>\n",
       "      <td>0</td>\n",
       "      <td>0</td>\n",
       "      <td>0</td>\n",
       "      <td>0</td>\n",
       "      <td>1</td>\n",
       "      <td>1</td>\n",
       "      <td>...</td>\n",
       "      <td>0</td>\n",
       "      <td>1</td>\n",
       "      <td>0</td>\n",
       "      <td>1</td>\n",
       "      <td>0</td>\n",
       "      <td>0</td>\n",
       "      <td>1</td>\n",
       "      <td>0</td>\n",
       "      <td>0</td>\n",
       "      <td>0</td>\n",
       "    </tr>\n",
       "    <tr>\n",
       "      <th>5</th>\n",
       "      <td>0</td>\n",
       "      <td>0</td>\n",
       "      <td>0</td>\n",
       "      <td>1</td>\n",
       "      <td>0</td>\n",
       "      <td>1</td>\n",
       "      <td>0</td>\n",
       "      <td>0</td>\n",
       "      <td>0</td>\n",
       "      <td>0</td>\n",
       "      <td>...</td>\n",
       "      <td>0</td>\n",
       "      <td>0</td>\n",
       "      <td>0</td>\n",
       "      <td>0</td>\n",
       "      <td>1</td>\n",
       "      <td>0</td>\n",
       "      <td>0</td>\n",
       "      <td>0</td>\n",
       "      <td>0</td>\n",
       "      <td>0</td>\n",
       "    </tr>\n",
       "    <tr>\n",
       "      <th>6</th>\n",
       "      <td>0</td>\n",
       "      <td>0</td>\n",
       "      <td>0</td>\n",
       "      <td>0</td>\n",
       "      <td>1</td>\n",
       "      <td>0</td>\n",
       "      <td>0</td>\n",
       "      <td>0</td>\n",
       "      <td>0</td>\n",
       "      <td>0</td>\n",
       "      <td>...</td>\n",
       "      <td>0</td>\n",
       "      <td>0</td>\n",
       "      <td>0</td>\n",
       "      <td>0</td>\n",
       "      <td>0</td>\n",
       "      <td>1</td>\n",
       "      <td>0</td>\n",
       "      <td>1</td>\n",
       "      <td>0</td>\n",
       "      <td>1</td>\n",
       "    </tr>\n",
       "    <tr>\n",
       "      <th>7</th>\n",
       "      <td>1</td>\n",
       "      <td>0</td>\n",
       "      <td>0</td>\n",
       "      <td>0</td>\n",
       "      <td>0</td>\n",
       "      <td>0</td>\n",
       "      <td>0</td>\n",
       "      <td>0</td>\n",
       "      <td>0</td>\n",
       "      <td>0</td>\n",
       "      <td>...</td>\n",
       "      <td>0</td>\n",
       "      <td>1</td>\n",
       "      <td>0</td>\n",
       "      <td>0</td>\n",
       "      <td>1</td>\n",
       "      <td>0</td>\n",
       "      <td>0</td>\n",
       "      <td>0</td>\n",
       "      <td>0</td>\n",
       "      <td>0</td>\n",
       "    </tr>\n",
       "  </tbody>\n",
       "</table>\n",
       "<p>8 rows × 82 columns</p>\n",
       "</div>"
      ],
      "text/plain": [
       "   0   1   2   3   4   5   6   7   8   9   ...  72  73  74  75  76  77  78  \\\n",
       "0   0   1   0   0   0   0   1   0   0   0  ...   0   0   1   0   0   0   0   \n",
       "1   0   0   0   0   0   0   1   1   0   0  ...   0   0   0   0   0   0   0   \n",
       "2   0   0   0   0   0   0   0   0   0   0  ...   1   0   0   0   0   0   0   \n",
       "3   0   0   0   0   0   0   0   0   0   1  ...   0   0   0   1   1   1   0   \n",
       "4   0   0   1   0   0   0   0   0   1   1  ...   0   1   0   1   0   0   1   \n",
       "5   0   0   0   1   0   1   0   0   0   0  ...   0   0   0   0   1   0   0   \n",
       "6   0   0   0   0   1   0   0   0   0   0  ...   0   0   0   0   0   1   0   \n",
       "7   1   0   0   0   0   0   0   0   0   0  ...   0   1   0   0   1   0   0   \n",
       "\n",
       "   79  80  81  \n",
       "0   0   0   0  \n",
       "1   0   0   0  \n",
       "2   0   1   0  \n",
       "3   0   0   0  \n",
       "4   0   0   0  \n",
       "5   0   0   0  \n",
       "6   1   0   1  \n",
       "7   0   0   0  \n",
       "\n",
       "[8 rows x 82 columns]"
      ]
     },
     "execution_count": 47,
     "metadata": {},
     "output_type": "execute_result"
    }
   ],
   "source": [
    "import pandas as pd\n",
    "X=pd.DataFrame(X)\n",
    "X"
   ]
  },
  {
   "cell_type": "code",
   "execution_count": null,
   "metadata": {},
   "outputs": [],
   "source": []
  }
 ],
 "metadata": {
  "kernelspec": {
   "display_name": "Python 3",
   "language": "python",
   "name": "python3"
  },
  "language_info": {
   "codemirror_mode": {
    "name": "ipython",
    "version": 3
   },
   "file_extension": ".py",
   "mimetype": "text/x-python",
   "name": "python",
   "nbconvert_exporter": "python",
   "pygments_lexer": "ipython3",
   "version": "3.7.7"
  }
 },
 "nbformat": 4,
 "nbformat_minor": 4
}
