{
 "cells": [
  {
   "cell_type": "markdown",
   "metadata": {},
   "source": [
    "***Stemming:***<br>\n",
    "Stemming means the process of reducing the infected words to their word stem.It involves in converting the words to their reduced form such that words with similar meaning can be grouped into one. Example:  <br>\n",
    "1. Final, Finally, Finalized ==> Fina (After stemming)<br>\n",
    "2. History, Historical ==> Histori <br>\n",
    "3. Going, goes, gone ==> go"
   ]
  },
  {
   "cell_type": "markdown",
   "metadata": {},
   "source": [
    "***Lemmatization:***<br>\n",
    "Similar to Stemming, but in this case the converted words are meaningful in nature unlike stemming where there may be chances that the converted words are not meaningful in nature. Example:<br>\n",
    "1. History, Historical ==> History (After Lemmatization)\n",
    "2. Final, Finally, Finalized ==> Final\n",
    "3. Going, goes, gone ==> go"
   ]
  },
  {
   "cell_type": "markdown",
   "metadata": {},
   "source": [
    "***So why do we need these methods?***<br>\n",
    "We use these methods in the case of classifying the reviews based on the sentiments. Example: Amazon classify its reviews based on the stem words and then predict the number of positive reviews and the negative reviews."
   ]
  },
  {
   "cell_type": "code",
   "execution_count": 1,
   "metadata": {
    "ExecuteTime": {
     "end_time": "2020-10-23T04:53:47.878041Z",
     "start_time": "2020-10-23T04:53:47.861087Z"
    }
   },
   "outputs": [],
   "source": [
    "# Lemmatization takes more time when compared to stemming"
   ]
  },
  {
   "cell_type": "code",
   "execution_count": 2,
   "metadata": {
    "ExecuteTime": {
     "end_time": "2020-10-23T04:54:58.739095Z",
     "start_time": "2020-10-23T04:54:58.735106Z"
    }
   },
   "outputs": [],
   "source": [
    "# Stemming is used in gmail spam classifier, positive and negative sentiments classifier because all that we need are the \n",
    "# stem words"
   ]
  },
  {
   "cell_type": "code",
   "execution_count": 3,
   "metadata": {
    "ExecuteTime": {
     "end_time": "2020-10-23T04:56:00.000255Z",
     "start_time": "2020-10-23T04:55:59.983279Z"
    }
   },
   "outputs": [],
   "source": [
    "# Lemmatization can be used in the case of chatbots, question and answer classifier because the response we give to the computer\n",
    "# is meaningful in nature."
   ]
  },
  {
   "cell_type": "markdown",
   "metadata": {},
   "source": [
    "***Stop Words:***<br>\n",
    "Stop words are the words that do not have a serious impact on the sentence meaning wrt to the positive and negative sentiment analysis. Example: I, me, he, they, a, the , my,your, of, from, and etc. For most of the scenarios we remove these stop words because they do not impact the sentiments but there are few places where these stop words impact the sentences."
   ]
  },
  {
   "cell_type": "markdown",
   "metadata": {},
   "source": [
    "# Stemming"
   ]
  },
  {
   "cell_type": "code",
   "execution_count": 4,
   "metadata": {
    "ExecuteTime": {
     "end_time": "2020-10-23T04:58:09.258184Z",
     "start_time": "2020-10-23T04:58:09.247182Z"
    }
   },
   "outputs": [],
   "source": [
    "paragraph=\"Mathematical analysis formally developed in the 17th century during the Scientific Revolution,but many of its ideas can be traced back to earlier mathematicians. Early results in analysis were implicitly present in the early days of ancient Greek mathematics. For instance, an infinite geometric sum is implicit in Zeno's paradox of the dichotomy. Later, Greek mathematicians such as Eudoxus and Archimedes made more explicit, but informal, use of the concepts of limits and convergence when they used the method of exhaustion to compute the area and volume of regions and solids. The explicit use of infinitesimals appears in Archimedes' The Method of Mechanical Theorems, a work rediscovered in the 20th century. In Asia, the Chinese mathematician Liu Hui used the method of exhaustion in the 3rd century AD to find the area of a circle. Zu Chongzhi established a method that would later be called Cavalieri's principle to find the volume of a sphere in the 5th century. The Indian mathematician Bhāskara II gave examples of the derivative and used what is now known as Rolle's theorem in the 12th century.\""
   ]
  },
  {
   "cell_type": "code",
   "execution_count": 5,
   "metadata": {
    "ExecuteTime": {
     "end_time": "2020-10-23T05:00:56.495717Z",
     "start_time": "2020-10-23T05:00:56.484104Z"
    }
   },
   "outputs": [],
   "source": [
    "import nltk\n",
    "from nltk.stem import PorterStemmer\n",
    "from nltk.corpus import stopwords"
   ]
  },
  {
   "cell_type": "code",
   "execution_count": 10,
   "metadata": {
    "ExecuteTime": {
     "end_time": "2020-10-23T05:07:17.443682Z",
     "start_time": "2020-10-23T05:07:17.438677Z"
    }
   },
   "outputs": [
    {
     "data": {
      "text/plain": [
       "['__class__',\n",
       " '__delattr__',\n",
       " '__dict__',\n",
       " '__dir__',\n",
       " '__doc__',\n",
       " '__eq__',\n",
       " '__format__',\n",
       " '__ge__',\n",
       " '__getattribute__',\n",
       " '__gt__',\n",
       " '__hash__',\n",
       " '__init__',\n",
       " '__init_subclass__',\n",
       " '__le__',\n",
       " '__lt__',\n",
       " '__module__',\n",
       " '__ne__',\n",
       " '__new__',\n",
       " '__reduce__',\n",
       " '__reduce_ex__',\n",
       " '__repr__',\n",
       " '__setattr__',\n",
       " '__sizeof__',\n",
       " '__str__',\n",
       " '__subclasshook__',\n",
       " '__weakref__',\n",
       " '_encoding',\n",
       " '_fileids',\n",
       " '_get_root',\n",
       " '_root',\n",
       " '_tagset',\n",
       " '_unload',\n",
       " 'abspath',\n",
       " 'abspaths',\n",
       " 'citation',\n",
       " 'encoding',\n",
       " 'ensure_loaded',\n",
       " 'fileids',\n",
       " 'license',\n",
       " 'open',\n",
       " 'raw',\n",
       " 'readme',\n",
       " 'root',\n",
       " 'words']"
      ]
     },
     "execution_count": 10,
     "metadata": {},
     "output_type": "execute_result"
    }
   ],
   "source": [
    "dir(stopwords)"
   ]
  },
  {
   "cell_type": "code",
   "execution_count": 14,
   "metadata": {
    "ExecuteTime": {
     "end_time": "2020-10-23T05:08:11.922523Z",
     "start_time": "2020-10-23T05:08:11.910556Z"
    }
   },
   "outputs": [
    {
     "data": {
      "text/plain": [
       "['i',\n",
       " 'me',\n",
       " 'my',\n",
       " 'myself',\n",
       " 'we',\n",
       " 'our',\n",
       " 'ours',\n",
       " 'ourselves',\n",
       " 'you',\n",
       " \"you're\",\n",
       " \"you've\",\n",
       " \"you'll\",\n",
       " \"you'd\",\n",
       " 'your',\n",
       " 'yours',\n",
       " 'yourself',\n",
       " 'yourselves',\n",
       " 'he',\n",
       " 'him',\n",
       " 'his',\n",
       " 'himself',\n",
       " 'she',\n",
       " \"she's\",\n",
       " 'her',\n",
       " 'hers',\n",
       " 'herself',\n",
       " 'it',\n",
       " \"it's\",\n",
       " 'its',\n",
       " 'itself',\n",
       " 'they',\n",
       " 'them',\n",
       " 'their',\n",
       " 'theirs',\n",
       " 'themselves',\n",
       " 'what',\n",
       " 'which',\n",
       " 'who',\n",
       " 'whom',\n",
       " 'this',\n",
       " 'that',\n",
       " \"that'll\",\n",
       " 'these',\n",
       " 'those',\n",
       " 'am',\n",
       " 'is',\n",
       " 'are',\n",
       " 'was',\n",
       " 'were',\n",
       " 'be',\n",
       " 'been',\n",
       " 'being',\n",
       " 'have',\n",
       " 'has',\n",
       " 'had',\n",
       " 'having',\n",
       " 'do',\n",
       " 'does',\n",
       " 'did',\n",
       " 'doing',\n",
       " 'a',\n",
       " 'an',\n",
       " 'the',\n",
       " 'and',\n",
       " 'but',\n",
       " 'if',\n",
       " 'or',\n",
       " 'because',\n",
       " 'as',\n",
       " 'until',\n",
       " 'while',\n",
       " 'of',\n",
       " 'at',\n",
       " 'by',\n",
       " 'for',\n",
       " 'with',\n",
       " 'about',\n",
       " 'against',\n",
       " 'between',\n",
       " 'into',\n",
       " 'through',\n",
       " 'during',\n",
       " 'before',\n",
       " 'after',\n",
       " 'above',\n",
       " 'below',\n",
       " 'to',\n",
       " 'from',\n",
       " 'up',\n",
       " 'down',\n",
       " 'in',\n",
       " 'out',\n",
       " 'on',\n",
       " 'off',\n",
       " 'over',\n",
       " 'under',\n",
       " 'again',\n",
       " 'further',\n",
       " 'then',\n",
       " 'once',\n",
       " 'here',\n",
       " 'there',\n",
       " 'when',\n",
       " 'where',\n",
       " 'why',\n",
       " 'how',\n",
       " 'all',\n",
       " 'any',\n",
       " 'both',\n",
       " 'each',\n",
       " 'few',\n",
       " 'more',\n",
       " 'most',\n",
       " 'other',\n",
       " 'some',\n",
       " 'such',\n",
       " 'no',\n",
       " 'nor',\n",
       " 'not',\n",
       " 'only',\n",
       " 'own',\n",
       " 'same',\n",
       " 'so',\n",
       " 'than',\n",
       " 'too',\n",
       " 'very',\n",
       " 's',\n",
       " 't',\n",
       " 'can',\n",
       " 'will',\n",
       " 'just',\n",
       " 'don',\n",
       " \"don't\",\n",
       " 'should',\n",
       " \"should've\",\n",
       " 'now',\n",
       " 'd',\n",
       " 'll',\n",
       " 'm',\n",
       " 'o',\n",
       " 're',\n",
       " 've',\n",
       " 'y',\n",
       " 'ain',\n",
       " 'aren',\n",
       " \"aren't\",\n",
       " 'couldn',\n",
       " \"couldn't\",\n",
       " 'didn',\n",
       " \"didn't\",\n",
       " 'doesn',\n",
       " \"doesn't\",\n",
       " 'hadn',\n",
       " \"hadn't\",\n",
       " 'hasn',\n",
       " \"hasn't\",\n",
       " 'haven',\n",
       " \"haven't\",\n",
       " 'isn',\n",
       " \"isn't\",\n",
       " 'ma',\n",
       " 'mightn',\n",
       " \"mightn't\",\n",
       " 'mustn',\n",
       " \"mustn't\",\n",
       " 'needn',\n",
       " \"needn't\",\n",
       " 'shan',\n",
       " \"shan't\",\n",
       " 'shouldn',\n",
       " \"shouldn't\",\n",
       " 'wasn',\n",
       " \"wasn't\",\n",
       " 'weren',\n",
       " \"weren't\",\n",
       " 'won',\n",
       " \"won't\",\n",
       " 'wouldn',\n",
       " \"wouldn't\"]"
      ]
     },
     "execution_count": 14,
     "metadata": {},
     "output_type": "execute_result"
    }
   ],
   "source": [
    "stopwords.words('english')"
   ]
  },
  {
   "cell_type": "code",
   "execution_count": 6,
   "metadata": {
    "ExecuteTime": {
     "end_time": "2020-10-23T05:01:16.642369Z",
     "start_time": "2020-10-23T05:01:16.626399Z"
    }
   },
   "outputs": [],
   "source": [
    "stemmer=PorterStemmer()"
   ]
  },
  {
   "cell_type": "code",
   "execution_count": 7,
   "metadata": {
    "ExecuteTime": {
     "end_time": "2020-10-23T05:01:43.113998Z",
     "start_time": "2020-10-23T05:01:43.099038Z"
    }
   },
   "outputs": [],
   "source": [
    "sentences=nltk.sent_tokenize(paragraph)"
   ]
  },
  {
   "cell_type": "code",
   "execution_count": 17,
   "metadata": {
    "ExecuteTime": {
     "end_time": "2020-10-23T05:16:06.281157Z",
     "start_time": "2020-10-23T05:16:06.210316Z"
    }
   },
   "outputs": [],
   "source": [
    "for i in range(len(sentences)):\n",
    "    words=nltk.word_tokenize(sentences[i])\n",
    "    #words=[word for word in words if word not in set(stopwords.words('english'))]  we removed all the stopwords from the sentences\n",
    "    words=[stemmer.stem(word) for word in words if word not in set(stopwords.words('english'))]\n",
    "    # Now the words are stemmed\n",
    "    sentences[i]=' '.join(words) # Now we are replacing those words in the prev sentence by joining the stemmed words\n",
    "    # into sentence"
   ]
  },
  {
   "cell_type": "code",
   "execution_count": 18,
   "metadata": {
    "ExecuteTime": {
     "end_time": "2020-10-23T05:16:17.018977Z",
     "start_time": "2020-10-23T05:16:17.010001Z"
    }
   },
   "outputs": [
    {
     "data": {
      "text/plain": [
       "['mathemat analysi formal develop 17th centuri scientif revolut , mani idea trace back earlier mathematician .',\n",
       " 'earli result analysi implicitli present earli day ancient greek mathemat .',\n",
       " \"for instanc , infinit geometr sum implicit zeno 's paradox dichotomi .\",\n",
       " 'later , greek mathematician eudoxu archimed made explicit , inform , use concept limit converg use method exhaust comput area volum region solid .',\n",
       " \"the explicit use infinitesim appear archimed ' the method mechan theorem , work rediscov 20th centuri .\",\n",
       " 'In asia , chines mathematician liu hui use method exhaust 3rd centuri AD find area circl .',\n",
       " \"Zu chongzhi establish method would later call cavalieri 's principl find volum sphere 5th centuri .\",\n",
       " \"the indian mathematician bhāskara II gave exampl deriv use known roll 's theorem 12th centuri .\"]"
      ]
     },
     "execution_count": 18,
     "metadata": {},
     "output_type": "execute_result"
    }
   ],
   "source": [
    "sentences"
   ]
  },
  {
   "cell_type": "code",
   "execution_count": 19,
   "metadata": {
    "ExecuteTime": {
     "end_time": "2020-10-23T05:16:40.293187Z",
     "start_time": "2020-10-23T05:16:40.289603Z"
    }
   },
   "outputs": [],
   "source": [
    "# Now you can see that all the words are converted into stemmed words."
   ]
  },
  {
   "cell_type": "markdown",
   "metadata": {},
   "source": [
    "# Lemmatization"
   ]
  },
  {
   "cell_type": "code",
   "execution_count": 25,
   "metadata": {
    "ExecuteTime": {
     "end_time": "2020-10-23T05:29:09.048298Z",
     "start_time": "2020-10-23T05:29:09.042313Z"
    }
   },
   "outputs": [
    {
     "data": {
      "text/plain": [
       "['mathemat analysi formal develop 17th centuri scientif revolut , mani idea trace back earlier mathematician .',\n",
       " 'earli result analysi implicitli present earli day ancient greek mathemat .',\n",
       " \"for instanc , infinit geometr sum implicit zeno 's paradox dichotomi .\",\n",
       " 'later , greek mathematician eudoxu archimed made explicit , inform , use concept limit converg use method exhaust comput area volum region solid .',\n",
       " \"the explicit use infinitesim appear archimed ' the method mechan theorem , work rediscov 20th centuri .\",\n",
       " 'In asia , chines mathematician liu hui use method exhaust 3rd centuri AD find area circl .',\n",
       " \"Zu chongzhi establish method would later call cavalieri 's principl find volum sphere 5th centuri .\",\n",
       " \"the indian mathematician bhāskara II gave exampl deriv use known roll 's theorem 12th centuri .\"]"
      ]
     },
     "execution_count": 25,
     "metadata": {},
     "output_type": "execute_result"
    }
   ],
   "source": [
    "sentences"
   ]
  },
  {
   "cell_type": "code",
   "execution_count": 28,
   "metadata": {
    "ExecuteTime": {
     "end_time": "2020-10-23T05:30:06.786247Z",
     "start_time": "2020-10-23T05:30:06.771751Z"
    }
   },
   "outputs": [
    {
     "data": {
      "text/plain": [
       "['Mathematical analysis formally developed in the 17th century during the Scientific Revolution,but many of its ideas can be traced back to earlier mathematicians.',\n",
       " 'Early results in analysis were implicitly present in the early days of ancient Greek mathematics.',\n",
       " \"For instance, an infinite geometric sum is implicit in Zeno's paradox of the dichotomy.\",\n",
       " 'Later, Greek mathematicians such as Eudoxus and Archimedes made more explicit, but informal, use of the concepts of limits and convergence when they used the method of exhaustion to compute the area and volume of regions and solids.',\n",
       " \"The explicit use of infinitesimals appears in Archimedes' The Method of Mechanical Theorems, a work rediscovered in the 20th century.\",\n",
       " 'In Asia, the Chinese mathematician Liu Hui used the method of exhaustion in the 3rd century AD to find the area of a circle.',\n",
       " \"Zu Chongzhi established a method that would later be called Cavalieri's principle to find the volume of a sphere in the 5th century.\",\n",
       " \"The Indian mathematician Bhāskara II gave examples of the derivative and used what is now known as Rolle's theorem in the 12th century.\"]"
      ]
     },
     "execution_count": 28,
     "metadata": {},
     "output_type": "execute_result"
    }
   ],
   "source": [
    "sentences_lemma=nltk.sent_tokenize(paragraph)\n",
    "sentences_lemma"
   ]
  },
  {
   "cell_type": "code",
   "execution_count": 23,
   "metadata": {
    "ExecuteTime": {
     "end_time": "2020-10-23T05:28:44.672566Z",
     "start_time": "2020-10-23T05:28:44.665046Z"
    }
   },
   "outputs": [],
   "source": [
    "from nltk.stem import WordNetLemmatizer"
   ]
  },
  {
   "cell_type": "code",
   "execution_count": 24,
   "metadata": {
    "ExecuteTime": {
     "end_time": "2020-10-23T05:28:56.061400Z",
     "start_time": "2020-10-23T05:28:56.054418Z"
    }
   },
   "outputs": [],
   "source": [
    "lematizer=WordNetLemmatizer()"
   ]
  },
  {
   "cell_type": "code",
   "execution_count": 29,
   "metadata": {
    "ExecuteTime": {
     "end_time": "2020-10-23T05:33:04.189972Z",
     "start_time": "2020-10-23T05:33:04.125239Z"
    }
   },
   "outputs": [],
   "source": [
    "for i in range(len(sentences_lemma)):\n",
    "    words_lemma=nltk.word_tokenize(sentences_lemma[i])\n",
    "    words_lemma=[lematizer.lemmatize(word_lemma) for word_lemma in words_lemma if word_lemma not in set(stopwords.words('english'))]\n",
    "    sentences_lemma[i]=' '.join(words_lemma)"
   ]
  },
  {
   "cell_type": "code",
   "execution_count": 30,
   "metadata": {
    "ExecuteTime": {
     "end_time": "2020-10-23T05:33:14.330949Z",
     "start_time": "2020-10-23T05:33:14.319415Z"
    }
   },
   "outputs": [
    {
     "data": {
      "text/plain": [
       "['Mathematical analysis formally developed 17th century Scientific Revolution , many idea traced back earlier mathematician .',\n",
       " 'Early result analysis implicitly present early day ancient Greek mathematics .',\n",
       " \"For instance , infinite geometric sum implicit Zeno 's paradox dichotomy .\",\n",
       " 'Later , Greek mathematician Eudoxus Archimedes made explicit , informal , use concept limit convergence used method exhaustion compute area volume region solid .',\n",
       " \"The explicit use infinitesimal appears Archimedes ' The Method Mechanical Theorems , work rediscovered 20th century .\",\n",
       " 'In Asia , Chinese mathematician Liu Hui used method exhaustion 3rd century AD find area circle .',\n",
       " \"Zu Chongzhi established method would later called Cavalieri 's principle find volume sphere 5th century .\",\n",
       " \"The Indian mathematician Bhāskara II gave example derivative used known Rolle 's theorem 12th century .\"]"
      ]
     },
     "execution_count": 30,
     "metadata": {},
     "output_type": "execute_result"
    }
   ],
   "source": [
    "sentences_lemma"
   ]
  },
  {
   "cell_type": "code",
   "execution_count": 31,
   "metadata": {
    "ExecuteTime": {
     "end_time": "2020-10-23T05:33:43.739016Z",
     "start_time": "2020-10-23T05:33:43.728046Z"
    }
   },
   "outputs": [],
   "source": [
    "# Now you can see that our sentences are lematized"
   ]
  },
  {
   "cell_type": "code",
   "execution_count": null,
   "metadata": {},
   "outputs": [],
   "source": []
  }
 ],
 "metadata": {
  "kernelspec": {
   "display_name": "Python 3",
   "language": "python",
   "name": "python3"
  },
  "language_info": {
   "codemirror_mode": {
    "name": "ipython",
    "version": 3
   },
   "file_extension": ".py",
   "mimetype": "text/x-python",
   "name": "python",
   "nbconvert_exporter": "python",
   "pygments_lexer": "ipython3",
   "version": "3.7.7"
  }
 },
 "nbformat": 4,
 "nbformat_minor": 4
}
