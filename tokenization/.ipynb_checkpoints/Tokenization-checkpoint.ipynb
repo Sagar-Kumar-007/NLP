{
 "cells": [
  {
   "cell_type": "code",
   "execution_count": 2,
   "metadata": {
    "ExecuteTime": {
     "end_time": "2020-10-23T04:33:04.191994Z",
     "start_time": "2020-10-23T04:33:04.183047Z"
    }
   },
   "outputs": [],
   "source": [
    "# nltk (Natural Language ToolKit) library is used to perform NLP tasks"
   ]
  },
  {
   "cell_type": "code",
   "execution_count": 3,
   "metadata": {
    "ExecuteTime": {
     "end_time": "2020-10-23T04:33:07.552050Z",
     "start_time": "2020-10-23T04:33:06.473803Z"
    }
   },
   "outputs": [],
   "source": [
    "import nltk"
   ]
  },
  {
   "cell_type": "code",
   "execution_count": 4,
   "metadata": {
    "ExecuteTime": {
     "end_time": "2020-10-23T04:25:18.489283Z",
     "start_time": "2020-10-23T04:16:37.278620Z"
    }
   },
   "outputs": [
    {
     "name": "stdout",
     "output_type": "stream",
     "text": [
      "showing info https://raw.githubusercontent.com/nltk/nltk_data/gh-pages/index.xml\n"
     ]
    },
    {
     "data": {
      "text/plain": [
       "True"
      ]
     },
     "execution_count": 4,
     "metadata": {},
     "output_type": "execute_result"
    }
   ],
   "source": [
    "nltk.download()"
   ]
  },
  {
   "cell_type": "code",
   "execution_count": 4,
   "metadata": {
    "ExecuteTime": {
     "end_time": "2020-10-23T04:33:09.778370Z",
     "start_time": "2020-10-23T04:33:09.767400Z"
    }
   },
   "outputs": [],
   "source": [
    "# One time process to download all the libraries inside nltk"
   ]
  },
  {
   "cell_type": "code",
   "execution_count": 5,
   "metadata": {
    "ExecuteTime": {
     "end_time": "2020-10-23T04:33:10.678839Z",
     "start_time": "2020-10-23T04:33:10.670856Z"
    }
   },
   "outputs": [],
   "source": [
    "paragraph=\"Mathematical analysis formally developed in the 17th century during the Scientific Revolution,but many of its ideas can be traced back to earlier mathematicians. Early results in analysis were implicitly present in the early days of ancient Greek mathematics. For instance, an infinite geometric sum is implicit in Zeno's paradox of the dichotomy. Later, Greek mathematicians such as Eudoxus and Archimedes made more explicit, but informal, use of the concepts of limits and convergence when they used the method of exhaustion to compute the area and volume of regions and solids. The explicit use of infinitesimals appears in Archimedes' The Method of Mechanical Theorems, a work rediscovered in the 20th century. In Asia, the Chinese mathematician Liu Hui used the method of exhaustion in the 3rd century AD to find the area of a circle. Zu Chongzhi established a method that would later be called Cavalieri's principle to find the volume of a sphere in the 5th century. The Indian mathematician Bhāskara II gave examples of the derivative and used what is now known as Rolle's theorem in the 12th century.\""
   ]
  },
  {
   "cell_type": "code",
   "execution_count": 6,
   "metadata": {
    "ExecuteTime": {
     "end_time": "2020-10-23T04:33:11.317443Z",
     "start_time": "2020-10-23T04:33:11.299491Z"
    }
   },
   "outputs": [
    {
     "data": {
      "text/plain": [
       "\"Mathematical analysis formally developed in the 17th century during the Scientific Revolution,but many of its ideas can be traced back to earlier mathematicians. Early results in analysis were implicitly present in the early days of ancient Greek mathematics. For instance, an infinite geometric sum is implicit in Zeno's paradox of the dichotomy. Later, Greek mathematicians such as Eudoxus and Archimedes made more explicit, but informal, use of the concepts of limits and convergence when they used the method of exhaustion to compute the area and volume of regions and solids. The explicit use of infinitesimals appears in Archimedes' The Method of Mechanical Theorems, a work rediscovered in the 20th century. In Asia, the Chinese mathematician Liu Hui used the method of exhaustion in the 3rd century AD to find the area of a circle. Zu Chongzhi established a method that would later be called Cavalieri's principle to find the volume of a sphere in the 5th century. The Indian mathematician Bhāskara II gave examples of the derivative and used what is now known as Rolle's theorem in the 12th century.\""
      ]
     },
     "execution_count": 6,
     "metadata": {},
     "output_type": "execute_result"
    }
   ],
   "source": [
    "paragraph"
   ]
  },
  {
   "cell_type": "code",
   "execution_count": 8,
   "metadata": {
    "ExecuteTime": {
     "end_time": "2020-10-23T04:33:23.005146Z",
     "start_time": "2020-10-23T04:33:22.992207Z"
    }
   },
   "outputs": [],
   "source": [
    "# Converting paragraph into sentences (Tokenizing sentences)\n",
    "sentences=nltk.sent_tokenize(paragraph)"
   ]
  },
  {
   "cell_type": "code",
   "execution_count": 10,
   "metadata": {
    "ExecuteTime": {
     "end_time": "2020-10-23T04:34:54.614113Z",
     "start_time": "2020-10-23T04:34:54.608031Z"
    }
   },
   "outputs": [],
   "source": [
    "# Converting paragraph into words (Tokenizing Words)\n",
    "words=nltk.word_tokenize(paragraph)"
   ]
  },
  {
   "cell_type": "code",
   "execution_count": 13,
   "metadata": {
    "ExecuteTime": {
     "end_time": "2020-10-23T04:36:34.098104Z",
     "start_time": "2020-10-23T04:36:34.092121Z"
    }
   },
   "outputs": [],
   "source": [
    "import numpy as np"
   ]
  },
  {
   "cell_type": "code",
   "execution_count": 14,
   "metadata": {
    "ExecuteTime": {
     "end_time": "2020-10-23T04:36:53.626077Z",
     "start_time": "2020-10-23T04:36:53.617069Z"
    }
   },
   "outputs": [],
   "source": [
    "sentences=np.array(sentences)"
   ]
  },
  {
   "cell_type": "code",
   "execution_count": 16,
   "metadata": {
    "ExecuteTime": {
     "end_time": "2020-10-23T04:37:04.905156Z",
     "start_time": "2020-10-23T04:37:04.892188Z"
    }
   },
   "outputs": [
    {
     "data": {
      "text/plain": [
       "(8,)"
      ]
     },
     "execution_count": 16,
     "metadata": {},
     "output_type": "execute_result"
    }
   ],
   "source": [
    "sentences.shape"
   ]
  },
  {
   "cell_type": "code",
   "execution_count": 18,
   "metadata": {
    "ExecuteTime": {
     "end_time": "2020-10-23T04:37:32.958852Z",
     "start_time": "2020-10-23T04:37:32.953865Z"
    }
   },
   "outputs": [],
   "source": [
    "words=np.array(words)"
   ]
  },
  {
   "cell_type": "code",
   "execution_count": 19,
   "metadata": {
    "ExecuteTime": {
     "end_time": "2020-10-23T04:37:37.845394Z",
     "start_time": "2020-10-23T04:37:37.838413Z"
    }
   },
   "outputs": [
    {
     "data": {
      "text/plain": [
       "(200,)"
      ]
     },
     "execution_count": 19,
     "metadata": {},
     "output_type": "execute_result"
    }
   ],
   "source": [
    "words.shape"
   ]
  },
  {
   "cell_type": "code",
   "execution_count": 20,
   "metadata": {
    "ExecuteTime": {
     "end_time": "2020-10-23T04:38:01.160281Z",
     "start_time": "2020-10-23T04:38:01.143328Z"
    }
   },
   "outputs": [],
   "source": [
    "# You can see that the above paragraph had 8 sentences and 200 words."
   ]
  },
  {
   "cell_type": "code",
   "execution_count": 21,
   "metadata": {
    "ExecuteTime": {
     "end_time": "2020-10-23T04:40:14.394906Z",
     "start_time": "2020-10-23T04:40:14.377951Z"
    }
   },
   "outputs": [],
   "source": [
    "# The words might be repeated and each punctuation mark is also considered as a word."
   ]
  },
  {
   "cell_type": "code",
   "execution_count": null,
   "metadata": {},
   "outputs": [],
   "source": []
  }
 ],
 "metadata": {
  "kernelspec": {
   "display_name": "Python 3",
   "language": "python",
   "name": "python3"
  },
  "language_info": {
   "codemirror_mode": {
    "name": "ipython",
    "version": 3
   },
   "file_extension": ".py",
   "mimetype": "text/x-python",
   "name": "python",
   "nbconvert_exporter": "python",
   "pygments_lexer": "ipython3",
   "version": "3.7.7"
  }
 },
 "nbformat": 4,
 "nbformat_minor": 4
}
